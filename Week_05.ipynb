{
  "nbformat": 4,
  "nbformat_minor": 0,
  "metadata": {
    "colab": {
      "provenance": []
    },
    "kernelspec": {
      "name": "python3",
      "display_name": "Python 3"
    },
    "language_info": {
      "name": "python"
    }
  },
  "cells": [
    {
      "cell_type": "markdown",
      "source": [
        "SABIN CHAULAGAIN\n",
        "\n",
        "ID:2358554"
      ],
      "metadata": {
        "id": "NxTmC9O8AfYt"
      }
    },
    {
      "cell_type": "code",
      "execution_count": null,
      "metadata": {
        "id": "WkFiPIrZ-LDo"
      },
      "outputs": [],
      "source": [
        "#Example1:\n",
        "import numpy as np\n",
        "list_x=[1,2,3,4] #python list\n",
        "array = np.array([1, 2, 3, 4, 5, 6]) # single dimensional array\n",
        "matrix = np.array([[1, 2, 3, 4],[5, 6, 7, 8], [9, 10, 11, 12]]) # nD array"
      ]
    },
    {
      "cell_type": "markdown",
      "source": [
        "Task 1:\n",
        "a. What are the results of print(array[0]), print(matrix[1]) and matrix[1,2]?"
      ],
      "metadata": {
        "id": "XyyWWu9SK6Ia"
      }
    },
    {
      "cell_type": "code",
      "source": [
        "import numpy as np\n",
        "list_x = [1,2,3,4]\n",
        "array = np.array([1,2,3,4,5,6])\n",
        "matrix = np.array([[1,2,3,4], [5,6,7,8],[9,10,11,12]])\n",
        "print(array[0])\n",
        "print(matrix[1])\n",
        "print(matrix[1,2])"
      ],
      "metadata": {
        "colab": {
          "base_uri": "https://localhost:8080/"
        },
        "id": "1dK8Agt5K6va",
        "outputId": "33cba4f2-6d3f-4806-f238-f162e2d2203a"
      },
      "execution_count": null,
      "outputs": [
        {
          "output_type": "stream",
          "name": "stdout",
          "text": [
            "1\n",
            "[5 6 7 8]\n",
            "7\n"
          ]
        }
      ]
    },
    {
      "cell_type": "markdown",
      "source": [
        "b. What are the difference between NumPy array and python list?\n",
        "Hint: write the difference on the basis of following\n",
        " Data type storage\n",
        " Importing modules\n",
        " Numerical operations\n",
        " Memory consumption\n",
        " Fast and convenient to use"
      ],
      "metadata": {
        "id": "C57L5IL3LXw0"
      }
    },
    {
      "cell_type": "markdown",
      "source": [
        "1. Data Type Storage: Numpy helps to fixed datatype for all the elements which are arrange and i n data type storage python lists can contain elements that are of different data types and helps for python list.\n",
        "2. Importing Modules: Numpy arrays requires the Numpy module and Python lists are part of the core python language and it does not require any additional module .\n",
        "3. Numerical Oprtations: Numpy arrays also provide mathematical and numerically operations and python list and do not have built-in numberical operations.\n",
        "4. Memory Consumption: Numpy are more memory efficient comapred to python list due ti fixed data type\n",
        "\n",
        "using python funtion type(),find the type of above mention basic things.\n"
      ],
      "metadata": {
        "id": "yfKJVPadLdyY"
      }
    },
    {
      "cell_type": "markdown",
      "source": [
        "Using python function type(), find the type of above list/arrays."
      ],
      "metadata": {
        "id": "Cj9bdHISM_ey"
      }
    },
    {
      "cell_type": "code",
      "source": [
        "import numpy as np\n",
        "\n",
        "list_x=[2,3,4,5]\n",
        "matrix=np.array([[2,3,4,5,6,7]])\n",
        "array=np.array([[2,3,4,5],[6,7,8,9],[10,11,12,13]])\n",
        "\n",
        "print(type(list_x))\n",
        "print(type(array))\n",
        "print(type(matrix))\n",
        "\n",
        "<class 'list'>\n",
        "<class 'numpy.ndarray'>\n",
        "<class 'numpy.ndarray'>"
      ],
      "metadata": {
        "colab": {
          "base_uri": "https://localhost:8080/",
          "height": 133
        },
        "id": "IIh_BdLnNALH",
        "outputId": "6468d6f9-964e-4da8-fc4b-42c67ce95271"
      },
      "execution_count": null,
      "outputs": [
        {
          "output_type": "error",
          "ename": "SyntaxError",
          "evalue": "ignored",
          "traceback": [
            "\u001b[0;36m  File \u001b[0;32m\"<ipython-input-16-176d918b7650>\"\u001b[0;36m, line \u001b[0;32m11\u001b[0m\n\u001b[0;31m    <class 'list'>\u001b[0m\n\u001b[0m    ^\u001b[0m\n\u001b[0;31mSyntaxError\u001b[0m\u001b[0;31m:\u001b[0m invalid syntax\n"
          ]
        }
      ]
    },
    {
      "cell_type": "code",
      "source": [
        "#Example 2:\n",
        "l=[]\n",
        "for i in range(1,5):\n",
        "  int_1=int(input(\"Enter :\"))\n",
        "l.append(int_1)\n",
        "print(np.array([l]))"
      ],
      "metadata": {
        "colab": {
          "base_uri": "https://localhost:8080/"
        },
        "id": "KMCL7XJPQX62",
        "outputId": "68a70f89-b3da-462b-d038-a28d9b14854a"
      },
      "execution_count": null,
      "outputs": [
        {
          "output_type": "stream",
          "name": "stdout",
          "text": [
            "Enter :1\n",
            "Enter :4\n",
            "Enter :6\n",
            "Enter :8\n",
            "[[8]]\n"
          ]
        }
      ]
    },
    {
      "cell_type": "markdown",
      "source": [
        "a. Write the result of print(np.ndim(l)) and print(np.shape())what the functions ndim( ) and\n",
        "shape( ) do?"
      ],
      "metadata": {
        "id": "kYAaYwxlQlpp"
      }
    },
    {
      "cell_type": "code",
      "source": [
        "import numpy as np\n",
        "l=[]\n",
        "for i in range(1,5):\n",
        "  int_1=int(input(\"Enter a numer:\"))\n",
        "  l.append(int_1)\n",
        "\n",
        "arr=np.array([1])\n",
        "print(arr)\n",
        "print(np.ndim(arr))\n",
        "print(np.shape(arr))\n"
      ],
      "metadata": {
        "colab": {
          "base_uri": "https://localhost:8080/"
        },
        "id": "cDMx4oGgQoPI",
        "outputId": "c2b41f3d-6a3c-4e9d-9732-84fe39c92b9b"
      },
      "execution_count": null,
      "outputs": [
        {
          "output_type": "stream",
          "name": "stdout",
          "text": [
            "Enter a numer:5\n",
            "Enter a numer:6\n",
            "Enter a numer:8\n",
            "Enter a numer:9\n",
            "[1]\n",
            "1\n",
            "(1,)\n"
          ]
        }
      ]
    },
    {
      "cell_type": "markdown",
      "source": [
        "Write the result of np.array([1,2,3], ndmin=6)"
      ],
      "metadata": {
        "id": "kB3BQwJbSNOk"
      }
    },
    {
      "cell_type": "code",
      "source": [
        "import numpy as np\n",
        "arr=np.array([1,2,3], ndmin=6)\n",
        "print(arr)"
      ],
      "metadata": {
        "colab": {
          "base_uri": "https://localhost:8080/"
        },
        "id": "H712n1PZSN7J",
        "outputId": "be610f26-c649-4b34-a141-79a574e183bb"
      },
      "execution_count": null,
      "outputs": [
        {
          "output_type": "stream",
          "name": "stdout",
          "text": [
            "[[[[[[1 2 3]]]]]]\n"
          ]
        }
      ]
    },
    {
      "cell_type": "code",
      "source": [
        "#Example 3:\n",
        "arr_zero=np.zeros(4)\n",
        "arr_zero=np.zeros([3,4])\n",
        "arr_ones=np.ones(3)\n",
        "arr_em=np.empty(4)\n",
        "arr_rn=np.arange(4)\n",
        "arr_dia=np.eye(3)\n",
        "arr_lin=np.linspace(0,20,num=5)\n",
        "arr_rand1=np.random.rand(4)\n",
        "arr_rand2=np.random.rand(2,5)\n",
        "arr_rand3=np.random.randint(5,20,2)# randint(min, max,\n",
        "print(arr_zero)\n",
        "print(arr_ones)\n",
        "print(arr_em)\n",
        "print(arr_rn)\n",
        "print(arr_dia)\n",
        "print(arr_lin)\n",
        "print(arr_rand1)\n",
        "print(arr_rand2)\n",
        "print(arr_rand3)"
      ],
      "metadata": {
        "colab": {
          "base_uri": "https://localhost:8080/"
        },
        "id": "xyTjLqsvTLN1",
        "outputId": "241bb5c5-68b8-4487-a2c5-70edff477d68"
      },
      "execution_count": null,
      "outputs": [
        {
          "output_type": "stream",
          "name": "stdout",
          "text": [
            "[[0. 0. 0. 0.]\n",
            " [0. 0. 0. 0.]\n",
            " [0. 0. 0. 0.]]\n",
            "[1. 1. 1.]\n",
            "[0. 0. 0. 0.]\n",
            "[0 1 2 3]\n",
            "[[1. 0. 0.]\n",
            " [0. 1. 0.]\n",
            " [0. 0. 1.]]\n",
            "[ 0.  5. 10. 15. 20.]\n",
            "[0.7345115  0.14882808 0.78652569 0.73033224]\n",
            "[[0.0805139  0.41747113 0.16995019 0.55515055 0.63224277]\n",
            " [0.53794082 0.66476175 0.46822636 0.38062584 0.67691864]]\n",
            "[17 12]\n"
          ]
        }
      ]
    },
    {
      "cell_type": "markdown",
      "source": [
        "a. Print all of the arrays from example 3 and write the functions of each of the NumPy\n",
        "functions."
      ],
      "metadata": {
        "id": "Z3IjbSQbUOAA"
      }
    },
    {
      "cell_type": "markdown",
      "source": [
        "np.zeros(4): this function creates a 1-d NumPy array of size 4, filled with zeros.\n",
        "\n",
        "\n",
        "np.zeros([3,4]):This creates a 2-d NumPy array of shape (3,4) filled with zeros.\n",
        "\n",
        "np.ones(3): This function creates a 1-d NumPy array of size 3, filled with ones.\n",
        "\n",
        "np.empty(4) : This function creates a 1-d NumPy the array of size 4 without initializing it's elements .\n",
        "\n",
        "np.arrange(4): This creates a 1-d NumPy array with values ranging from 0 to 3 (inculding 3).\n",
        "\n",
        "np.eye(3): This function creates a 2-d NumPy array od shape(3,3) with ones on the diagonal and zeros.\n",
        "\n",
        "np.linspace(0, 20, num=5) : This function creates a 1-dimensional NumPy array with 5 equally spaced\n",
        "values between 0 and 20\n",
        "\n",
        "np.random.rand(4) : This function creates a 1-dimensional NumPy array of size 4 with random values\n",
        "from a uniform distribution between 0 and 1.\n",
        "\n",
        "np.random.rand(2, 5): This function creates a 2-dimensional NumPy array of shape (2, 5) with random\n",
        "values from a uniform distribution between 0 and 1.\n",
        "\n",
        "np.random.randint(5, 20, 2) : This function creates a 1-dimensional NumPy array of size 2 with random\n",
        "integers between 5 (inclusive) and 20 (exclusive)."
      ],
      "metadata": {
        "id": "IVwyTjutUmYO"
      }
    },
    {
      "cell_type": "markdown",
      "source": [
        " Create the 3*4 matrix with all elements equal to zero."
      ],
      "metadata": {
        "id": "gOUcpw1qUr2w"
      }
    },
    {
      "cell_type": "code",
      "source": [
        "import numpy as np\n",
        "matrix=np.zeros((3,4))\n",
        "print(matrix)"
      ],
      "metadata": {
        "colab": {
          "base_uri": "https://localhost:8080/"
        },
        "id": "qTUCYCqWUsjS",
        "outputId": "74a785c1-a8f3-4d74-ba36-c71b00a77165"
      },
      "execution_count": null,
      "outputs": [
        {
          "output_type": "stream",
          "name": "stdout",
          "text": [
            "[[0. 0. 0. 0.]\n",
            " [0. 0. 0. 0.]\n",
            " [0. 0. 0. 0.]]\n"
          ]
        }
      ]
    },
    {
      "cell_type": "code",
      "source": [
        "#Arithmetic operations\n",
        "#Example 4:\n",
        "#addition and subtraction\n",
        "arr1 = np.array([[12,34],[44,22]])\n",
        "arr2 = np.array([[1,34],[0,22]])\n",
        "arr3 = np.add(arr1,arr2)\n",
        "arr4 = np.subtract(arr1,arr2)\n",
        "print(arr3)\n",
        "print(arr4)"
      ],
      "metadata": {
        "colab": {
          "base_uri": "https://localhost:8080/"
        },
        "id": "_dgPFBhoWGM-",
        "outputId": "ac689043-a80c-415a-a738-c330a04b1f37"
      },
      "execution_count": null,
      "outputs": [
        {
          "output_type": "stream",
          "name": "stdout",
          "text": [
            "[[13 68]\n",
            " [44 44]]\n",
            "[[11  0]\n",
            " [44  0]]\n"
          ]
        }
      ]
    },
    {
      "cell_type": "code",
      "source": [
        "#Example 5:\n",
        "arr1 = np.array([[1,2,3],[2,3,4],[2,3,4]])\n",
        "arr2 = np.array([[21,4],[2,1],[2,3]])\n",
        "arr3 = np.dot(arr1, arr2)\n",
        "arr4 = np.matmul(arr1, arr2)\n",
        "print(arr3)\n",
        "print(arr4)"
      ],
      "metadata": {
        "colab": {
          "base_uri": "https://localhost:8080/"
        },
        "id": "FI0FwX3-WJlE",
        "outputId": "f5a706c9-e5a6-4f17-bf91-30ceddf234f7"
      },
      "execution_count": null,
      "outputs": [
        {
          "output_type": "stream",
          "name": "stdout",
          "text": [
            "[[31 15]\n",
            " [56 23]\n",
            " [56 23]]\n",
            "[[31 15]\n",
            " [56 23]\n",
            " [56 23]]\n"
          ]
        }
      ]
    },
    {
      "cell_type": "markdown",
      "source": [
        "Task 4:\n",
        "a. What is the difference between np.dot() and np.matmul(). What is the result of\n",
        "np.dot(5,arr1)?"
      ],
      "metadata": {
        "id": "dY-kjuX8WT8u"
      }
    },
    {
      "cell_type": "markdown",
      "source": [
        "np.dot:\n",
        "1:for 2_D arrays it performs matrix multiplixitaition.\n",
        "2.for 1-D array it perform inner productor dot product.\n",
        "if one of operands is scalar it multiplies the scalar with each elementwith other array\n",
        "\n",
        "np.matmul()\n",
        "1.it performs matrix multiplication for 2-D.just like np.dot()\n",
        "2.It treate scalar inputs with different that np.dot().\n",
        "3. If one of component is scalar, it multiplies the scalar with each other and other array."
      ],
      "metadata": {
        "id": "li8GRVQFXSWX"
      }
    },
    {
      "cell_type": "code",
      "source": [],
      "metadata": {
        "id": "lx18ugaLXSzH"
      },
      "execution_count": null,
      "outputs": []
    },
    {
      "cell_type": "markdown",
      "source": [
        "b. What is the result of np.transpose(arr3)?"
      ],
      "metadata": {
        "id": "WM5GCO45XhgX"
      }
    },
    {
      "cell_type": "code",
      "source": [
        "import numpy as np\n",
        "arr1=np.array([[1,2,3],[2,3,4],[4,5,6]])\n",
        "result=np.dot(5,arr1)\n",
        "print(result)"
      ],
      "metadata": {
        "colab": {
          "base_uri": "https://localhost:8080/"
        },
        "id": "_w_qYTR9Xh-B",
        "outputId": "9d125bfa-43c5-4c72-a39f-87ac26ff142b"
      },
      "execution_count": null,
      "outputs": [
        {
          "output_type": "stream",
          "name": "stdout",
          "text": [
            "[[ 5 10 15]\n",
            " [10 15 20]\n",
            " [20 25 30]]\n"
          ]
        }
      ]
    },
    {
      "cell_type": "markdown",
      "source": [
        "How would you scalar multiply the matrix np.array([[2,3],[4,5]]) by 3?"
      ],
      "metadata": {
        "id": "E0MjbB02YCwr"
      }
    },
    {
      "cell_type": "code",
      "source": [
        "import numpy as np\n",
        "matxir=np.array([[2,3],[4,5]])\n",
        "scalar=3\n",
        "\n",
        "result=scalar*matrix\n",
        "print(matrix)"
      ],
      "metadata": {
        "colab": {
          "base_uri": "https://localhost:8080/"
        },
        "id": "ErVxkhykYDSQ",
        "outputId": "5852492e-fd46-4540-fa82-71f5ffae23ba"
      },
      "execution_count": null,
      "outputs": [
        {
          "output_type": "stream",
          "name": "stdout",
          "text": [
            "[[0. 0. 0. 0.]\n",
            " [0. 0. 0. 0.]\n",
            " [0. 0. 0. 0.]]\n"
          ]
        }
      ]
    },
    {
      "cell_type": "code",
      "source": [
        "#Example 6:\n",
        "a = np.array([1, 2, 3, 4, 5, 6])\n",
        "a.shape # this results (6,)\n",
        "#We can use np.expand_dims to add an axis at index position 1 with\n",
        "b = np.expand_dims(a, axis=1)\n",
        "b.shape # this results (6, 1)\n",
        "c = np.expand_dims(a, axis=0)\n",
        "c.shape # this results (1,6)"
      ],
      "metadata": {
        "colab": {
          "base_uri": "https://localhost:8080/"
        },
        "id": "r1MOVBcYYbCa",
        "outputId": "40df823c-774b-4115-ef48-0e5092119147"
      },
      "execution_count": null,
      "outputs": [
        {
          "output_type": "execute_result",
          "data": {
            "text/plain": [
              "(1, 6)"
            ]
          },
          "metadata": {},
          "execution_count": 36
        }
      ]
    },
    {
      "cell_type": "code",
      "source": [
        "import matplotlib.pyplot as plt\n",
        "x = np.linspace(0, 5, 20)\n",
        "y = np.linspace(0, 10, 20)\n",
        "plt.plot(x, y, 'purple') # line\n",
        "plt.xlabel(\"X-axis\")\n",
        "plt.ylabel(\"Y-axis\")\n",
        "plt.title(\"Demo graph\")\n",
        "plt.plot(x, y, 'o')"
      ],
      "metadata": {
        "colab": {
          "base_uri": "https://localhost:8080/",
          "height": 490
        },
        "id": "-7GajT7mYfCN",
        "outputId": "66bd338b-1213-452d-d3b9-4a609c81edcb"
      },
      "execution_count": null,
      "outputs": [
        {
          "output_type": "execute_result",
          "data": {
            "text/plain": [
              "[<matplotlib.lines.Line2D at 0x7fe073cbf9a0>]"
            ]
          },
          "metadata": {},
          "execution_count": 37
        },
        {
          "output_type": "display_data",
          "data": {
            "text/plain": [
              "<Figure size 640x480 with 1 Axes>"
            ],
            "image/png": "[encoded data removed]"
          },
          "metadata": {}
        }
      ]
    },
    {
      "cell_type": "markdown",
      "source": [
        "Task -6, Create a program that reads in two 5x6 numpy.arrays, adds them together, and then stores the\n",
        "result in a third 5x6 matrix. The program should then print out the first two matrices and the result\n",
        "matrix."
      ],
      "metadata": {
        "id": "Oo-bhGB320dn"
      }
    },
    {
      "cell_type": "code",
      "source": [
        "import numpy as np\n",
        "#reading in the two 5*6 matrices\n",
        "matrix1 = np.random.randint(1,10, size = (5,6))\n",
        "matrix2 = np.random.randint(1,10, size = (5,6))\n",
        "#Adding the matrices together\n",
        "result_mat = matrix1 + matrix2\n",
        "#printing the first matrix\n",
        "print(\"matrix 1 :\" )\n",
        "print(matrix1)\n",
        "print()\n",
        "#printing the second matrix\n",
        "print(\"matrix 2\")\n",
        "print(matrix2)\n",
        "print()\n",
        "#printing the result matrix\n",
        "print(\"result -matrix\")\n",
        "print(result_mat)"
      ],
      "metadata": {
        "colab": {
          "base_uri": "https://localhost:8080/"
        },
        "id": "3FFOnXBT21Or",
        "outputId": "8706386d-7ede-480b-82e0-5160074508ca"
      },
      "execution_count": null,
      "outputs": [
        {
          "output_type": "stream",
          "name": "stdout",
          "text": [
            "matrix 1 :\n",
            "[[2 1 1 2 9 4]\n",
            " [6 2 5 7 2 2]\n",
            " [5 3 1 4 8 5]\n",
            " [9 3 5 3 1 4]\n",
            " [6 1 8 2 5 7]]\n",
            "\n",
            "matrix 2\n",
            "[[7 3 3 4 4 5]\n",
            " [9 3 3 7 9 7]\n",
            " [9 5 2 8 5 2]\n",
            " [7 9 2 6 7 2]\n",
            " [4 6 4 2 8 6]]\n",
            "\n",
            "result -matrix\n",
            "[[ 9  4  4  6 13  9]\n",
            " [15  5  8 14 11  9]\n",
            " [14  8  3 12 13  7]\n",
            " [16 12  7  9  8  6]\n",
            " [10  7 12  4 13 13]]\n"
          ]
        }
      ]
    },
    {
      "cell_type": "markdown",
      "source": [
        "Create a program that reads in three 2x3 numpy.arrays, subtracts the second from the first, and adds the\n",
        "third to the result. The program should then print out all three matrices and the result matrix."
      ],
      "metadata": {
        "id": "sc1qPPbm2_-U"
      }
    },
    {
      "cell_type": "code",
      "source": [
        "import numpy as np\n",
        "#read in the three 2*3 matrix\n",
        "mat1 = np.array([[1,2,3],[4,5,6]])\n",
        "mat2 = np.array([[6,7,8],[5,3,8]])\n",
        "mat3 = np.array([[9,0,1],[0,7,3]])\n",
        "#subtract the second matrix from the first matrix\n",
        "result_mat = mat1 - mat2\n",
        "result_mat += mat3\n",
        "#printinf the first matrix\n",
        "print(\"matrix -1\")\n",
        "print(mat1)\n",
        "print()\n",
        "#printing second matrix\n",
        "print(\"matrix -2\")\n",
        "print(mat2)\n",
        "print()\n",
        "#printing third matrix\n",
        "print(\"matrix -3\")\n",
        "print(mat3)\n",
        "print()\n",
        "#print the result matrix:\n",
        "print(\"result matrix :\")\n",
        "print(result_mat)"
      ],
      "metadata": {
        "colab": {
          "base_uri": "https://localhost:8080/"
        },
        "id": "59rbfUc13Ae7",
        "outputId": "ab0374c5-60f8-4060-8ed6-ec7846f8327e"
      },
      "execution_count": null,
      "outputs": [
        {
          "output_type": "stream",
          "name": "stdout",
          "text": [
            "matrix -1\n",
            "[[1 2 3]\n",
            " [4 5 6]]\n",
            "\n",
            "matrix -2\n",
            "[[6 7 8]\n",
            " [5 3 8]]\n",
            "\n",
            "matrix -3\n",
            "[[9 0 1]\n",
            " [0 7 3]]\n",
            "\n",
            "result matrix :\n",
            "[[ 4 -5 -4]\n",
            " [-1  9  1]]\n"
          ]
        }
      ]
    }
  ]
}