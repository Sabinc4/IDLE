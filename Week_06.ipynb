{
  "nbformat": 4,
  "nbformat_minor": 0,
  "metadata": {
    "colab": {
      "provenance": []
    },
    "kernelspec": {
      "name": "python3",
      "display_name": "Python 3"
    },
    "language_info": {
      "name": "python"
    }
  },
  "cells": [
    {
      "cell_type": "markdown",
      "source": [
        "SABIN CHAULAGAIN\n",
        "2358554"
      ],
      "metadata": {
        "id": "4Onh_JCz8pJ5"
      }
    },
    {
      "cell_type": "code",
      "source": [
        "#Example 1:\n",
        "def listLen(v):\n",
        " count = 0\n",
        " for i in v:\n",
        "     count += 1\n",
        " return count\n",
        "# what the program does?\n",
        "#In the above program or example 1  i will lope and repeat."
      ],
      "metadata": {
        "id": "k6_TScKQ8w1t"
      },
      "execution_count": null,
      "outputs": []
    },
    {
      "cell_type": "code",
      "source": [
        "#Example 2:\n",
        "def number(x,n):\n",
        "  if n == 0:\n",
        "    return 1\n",
        "  else:\n",
        "    return (x*number(x, n-1))\n",
        "#What the program does?\n",
        "print(number(2,5))"
      ],
      "metadata": {
        "colab": {
          "base_uri": "https://localhost:8080/"
        },
        "id": "VZSERuEe9zeu",
        "outputId": "12c3e845-124c-46f9-c755-8dcf8cf110b8"
      },
      "execution_count": null,
      "outputs": [
        {
          "output_type": "stream",
          "name": "stdout",
          "text": [
            "32\n"
          ]
        }
      ]
    },
    {
      "cell_type": "markdown",
      "source": [
        "Task 1:\n",
        "\n",
        "a. Implement definitions of 𝑓(𝑛) and 𝑙𝑖𝑠𝑡𝑆𝑒𝑎𝑟𝑐ℎ(𝑚, 𝑛) in Python function"
      ],
      "metadata": {
        "id": "_mfmPKJ7A7-2"
      }
    },
    {
      "cell_type": "code",
      "source": [
        "def f(n):\n",
        "    if n <= 0:\n",
        "        return 0\n",
        "    elif n == 1:\n",
        "        return 1\n",
        "    else:\n",
        "        return f(n-1) + 2*(n-2)\n",
        "\n",
        "def listSearch(m, n):\n",
        "    if m > n:\n",
        "        return -1\n",
        "    for i in range(n, m-1, -1):\n",
        "        if i % 10 == n % 10:\n",
        "            return i % 10\n",
        "    return -1\n",
        "\n",
        "print(f(2))\n",
        "print(listSearch(20, 30))\n"
      ],
      "metadata": {
        "colab": {
          "base_uri": "https://localhost:8080/"
        },
        "id": "5ObeL1wk6HHD",
        "outputId": "2edb281c-da91-4ef4-afc4-0b11b5f58785"
      },
      "execution_count": null,
      "outputs": [
        {
          "output_type": "stream",
          "name": "stdout",
          "text": [
            "1\n",
            "0\n"
          ]
        }
      ]
    },
    {
      "cell_type": "code",
      "source": [
        "#Example 3:\n",
        "def pow10(n):\n",
        " if n == 0: # base case\n",
        "  return 1\n",
        " else:\n",
        "  return pow10(n-1) * 10\n",
        "print (pow10(3))\n",
        "#What the program does?\n",
        "#the above program"
      ],
      "metadata": {
        "colab": {
          "base_uri": "https://localhost:8080/"
        },
        "id": "Fm3YVEkQA9ff",
        "outputId": "f26d9914-e3ff-450f-d1b2-c82eb3bd9f22"
      },
      "execution_count": null,
      "outputs": [
        {
          "output_type": "stream",
          "name": "stdout",
          "text": [
            "1000\n"
          ]
        }
      ]
    },
    {
      "cell_type": "code",
      "source": [
        "#Example 04\n",
        "def fact(n):\n",
        " return fact1(n, 1)\n",
        "def fact1(n, r):\n",
        " if n <= 1:\n",
        "  return r\n",
        "  return fact1(n-1, n*r)"
      ],
      "metadata": {
        "id": "DzJ6FYh4EHqK"
      },
      "execution_count": null,
      "outputs": []
    },
    {
      "cell_type": "markdown",
      "source": [
        "a. Write a recursive function to find the sum of first n natural numbers."
      ],
      "metadata": {
        "id": "Lv1im9Zo6s_b"
      }
    },
    {
      "cell_type": "code",
      "source": [
        "def recursivesum(num):\n",
        "    if num <= 1:\n",
        "        return num\n",
        "    return num + recursivesum(num - 1)\n",
        "\n",
        "number = int(input(\"Enter a number: \"))\n",
        "print(recursivesum(number))"
      ],
      "metadata": {
        "id": "XlujCX9t6tuh"
      },
      "execution_count": null,
      "outputs": []
    },
    {
      "cell_type": "markdown",
      "source": [
        "b. Write a non-recursive function, called sumDigits(i), that takes a positive integer and returns the sum of the digits in the integer. i.e. sumDigitsi(16) = 7, sumDigitsi(111) = 3.\n"
      ],
      "metadata": {
        "id": "KZ3USPyu7LJp"
      }
    },
    {
      "cell_type": "code",
      "source": [
        "def sum_digitssabin(n):\n",
        "    sum = 0\n",
        "    while n != 0:\n",
        "        sum += n % 10\n",
        "        n = int(n / 10)\n",
        "    return sum\n",
        "\n",
        "number = int(input(\"Enter a number: \"))\n",
        "print(sum_digitssabin(number))\n"
      ],
      "metadata": {
        "colab": {
          "base_uri": "https://localhost:8080/",
          "height": 347
        },
        "id": "wGujeC4Q7L2j",
        "outputId": "5744d24d-fbe5-408d-bce1-34b1bba631c9"
      },
      "execution_count": null,
      "outputs": [
        {
          "name": "stdout",
          "output_type": "stream",
          "text": [
            "Enter a number: 10\n"
          ]
        },
        {
          "output_type": "error",
          "ename": "NameError",
          "evalue": "ignored",
          "traceback": [
            "\u001b[0;31m---------------------------------------------------------------------------\u001b[0m",
            "\u001b[0;31mNameError\u001b[0m                                 Traceback (most recent call last)",
            "\u001b[0;32m<ipython-input-18-84c7032272bf>\u001b[0m in \u001b[0;36m<cell line: 9>\u001b[0;34m()\u001b[0m\n\u001b[1;32m      7\u001b[0m \u001b[0;34m\u001b[0m\u001b[0m\n\u001b[1;32m      8\u001b[0m \u001b[0mnumber\u001b[0m \u001b[0;34m=\u001b[0m \u001b[0mint\u001b[0m\u001b[0;34m(\u001b[0m\u001b[0minput\u001b[0m\u001b[0;34m(\u001b[0m\u001b[0;34m\"Enter a number: \"\u001b[0m\u001b[0;34m)\u001b[0m\u001b[0;34m)\u001b[0m\u001b[0;34m\u001b[0m\u001b[0;34m\u001b[0m\u001b[0m\n\u001b[0;32m----> 9\u001b[0;31m \u001b[0mprint\u001b[0m\u001b[0;34m(\u001b[0m\u001b[0msum_digitssabin\u001b[0m\u001b[0;34m(\u001b[0m\u001b[0mnumber\u001b[0m\u001b[0;34m)\u001b[0m\u001b[0;34m)\u001b[0m\u001b[0;34m\u001b[0m\u001b[0;34m\u001b[0m\u001b[0m\n\u001b[0m",
            "\u001b[0;32m<ipython-input-18-84c7032272bf>\u001b[0m in \u001b[0;36msum_digitssabin\u001b[0;34m(n)\u001b[0m\n\u001b[1;32m      4\u001b[0m         \u001b[0msum\u001b[0m \u001b[0;34m+=\u001b[0m \u001b[0mn\u001b[0m \u001b[0;34m%\u001b[0m \u001b[0;36m10\u001b[0m\u001b[0;34m\u001b[0m\u001b[0;34m\u001b[0m\u001b[0m\n\u001b[1;32m      5\u001b[0m         \u001b[0mn\u001b[0m \u001b[0;34m=\u001b[0m \u001b[0mint\u001b[0m\u001b[0;34m(\u001b[0m\u001b[0mn\u001b[0m \u001b[0;34m/\u001b[0m \u001b[0;36m10\u001b[0m\u001b[0;34m)\u001b[0m\u001b[0;34m\u001b[0m\u001b[0;34m\u001b[0m\u001b[0m\n\u001b[0;32m----> 6\u001b[0;31m     \u001b[0;32mreturn\u001b[0m \u001b[0msum12\u001b[0m\u001b[0;34m\u001b[0m\u001b[0;34m\u001b[0m\u001b[0m\n\u001b[0m\u001b[1;32m      7\u001b[0m \u001b[0;34m\u001b[0m\u001b[0m\n\u001b[1;32m      8\u001b[0m \u001b[0mnumber\u001b[0m \u001b[0;34m=\u001b[0m \u001b[0mint\u001b[0m\u001b[0;34m(\u001b[0m\u001b[0minput\u001b[0m\u001b[0;34m(\u001b[0m\u001b[0;34m\"Enter a number: \"\u001b[0m\u001b[0;34m)\u001b[0m\u001b[0;34m)\u001b[0m\u001b[0;34m\u001b[0m\u001b[0;34m\u001b[0m\u001b[0m\n",
            "\u001b[0;31mNameError\u001b[0m: name 'sum12' is not defined"
          ]
        }
      ]
    },
    {
      "cell_type": "markdown",
      "source": [
        "c. Rewrite the solution from question 5) this time as a recursive function (call it sumDigitsr) that returns the sum of the digits in a positive integer. i.e. sumDigitsr(42) = 6, sumDigitsr(1234) = 10"
      ],
      "metadata": {
        "id": "MBn2pobo8aUQ"
      }
    },
    {
      "cell_type": "code",
      "source": [
        "def sumDigitsabin1(n):\n",
        "    if n < 10:\n",
        "        return n\n",
        "        return n+1\n",
        "    else:\n",
        "        return n % 10 + sumDigitsabin1(n // 10)\n",
        "\n",
        "number1 = int(input(\"Enter a number: \"))\n",
        "print(sumDigitsabin1(number1))\n"
      ],
      "metadata": {
        "colab": {
          "base_uri": "https://localhost:8080/",
          "height": 133
        },
        "id": "QtMLqp4Q8a8T",
        "outputId": "31434d4d-c103-4bf6-9997-6739c2d16c0d"
      },
      "execution_count": null,
      "outputs": [
        {
          "output_type": "error",
          "ename": "SyntaxError",
          "evalue": "ignored",
          "traceback": [
            "\u001b[0;36m  File \u001b[0;32m\"<ipython-input-20-d2275c3c1707>\"\u001b[0;36m, line \u001b[0;32m4\u001b[0m\n\u001b[0;31m    return 2n+1\u001b[0m\n\u001b[0m           ^\u001b[0m\n\u001b[0;31mSyntaxError\u001b[0m\u001b[0;31m:\u001b[0m invalid decimal literal\n"
          ]
        }
      ]
    },
    {
      "cell_type": "markdown",
      "source": [
        "d. The listSearch function (as defined in the preamble) is able to find items on a flat list. However, neither listSearch or the in operator are able to find items in a tree data structure such as [1,2,[3,[4],5],6,[7,8]]. So write a new recursive Python function that is able to find items on a tree,\n",
        "such that: treeSearch(4, [1,2,[3,[4],5],6,[7,8]]) => True treeSearch(9, [1,2,[3,[4],5],6,[7,8]]) => False Test your solution to ensure it accurately returns\n"
      ],
      "metadata": {
        "id": "FomqBovk9JbF"
      }
    },
    {
      "cell_type": "code",
      "source": [
        "def search_tree1(item, tree):\n",
        "    if item == tree:\n",
        "        return True\n",
        "    elif isinstance(tree, list):\n",
        "        for subtree in tree:\n",
        "            if search_tree1(item, subtree):\n",
        "                return True\n",
        "        return False\n",
        "\n",
        "tree = [4, 5, [2, [6], 3], 1, [9, 10]]\n",
        "print(search_tree1(10, tree))\n",
        "print(search_tree1(7, tree))\n"
      ],
      "metadata": {
        "colab": {
          "base_uri": "https://localhost:8080/"
        },
        "id": "-WnTxOc59S9n",
        "outputId": "26c3d3d7-ef9c-4476-8aec-5ea9961a649d"
      },
      "execution_count": null,
      "outputs": [
        {
          "output_type": "stream",
          "name": "stdout",
          "text": [
            "True\n",
            "False\n"
          ]
        }
      ]
    },
    {
      "cell_type": "markdown",
      "source": [
        "Tasks 3: Tower of Hanoi\n",
        "Tower of Hanoi is a mathematical puzzle where we have three rods and n disks. The objective of the puzzle is to move the entire stack to another rod, obeying the following simple rules: | Only one disk can be moved at a time.\n",
        "\n",
        "  Each move consists of taking the upper disk from one of the stacks and placing it on top of another stack i.e. a disk can only be moved if it is the uppermost disk on a stack. No disk may be placed on top of a smaller disk. a. Write a python program to solve the Tower of Hanoi."
      ],
      "metadata": {
        "id": "heHHb-r_9_y4"
      }
    },
    {
      "cell_type": "code",
      "source": [
        "def tower_of_hanoi(n, start_rod, helper_rod, destination_rod):\n",
        "    if n == 1:\n",
        "        print(f\"Move disk 1 from {start_rod} to {destination_rod}\")\n",
        "        return\n",
        "    tower_of_hanoi(n - 1, start_rod, destination_rod, helper_rod)\n",
        "    print(f\"Move disk {n} from {start_rod} to {destination_rod}\")\n",
        "    tower_of_hanoi(n - 1, helper_rod, start_rod, destination_rod)\n",
        "\n",
        "def play_game():\n",
        "    disk_num = int(input(\"Enter the number of disks: \"))\n",
        "    tower_of_hanoi(disk_num, \"A\", \"B\", \"C\")\n",
        "\n",
        "play_game()\n"
      ],
      "metadata": {
        "colab": {
          "base_uri": "https://localhost:8080/"
        },
        "id": "DoIaBEbi-DiE",
        "outputId": "e9fcc53e-b67f-4315-9dbc-77443aea8f26"
      },
      "execution_count": null,
      "outputs": [
        {
          "output_type": "stream",
          "name": "stdout",
          "text": [
            "Enter the number of disks: 3\n",
            "Move disk 1 from A to C\n",
            "Move disk 2 from A to B\n",
            "Move disk 1 from C to B\n",
            "Move disk 3 from A to C\n",
            "Move disk 1 from B to A\n",
            "Move disk 2 from B to C\n",
            "Move disk 1 from A to C\n"
          ]
        }
      ]
    },
    {
      "cell_type": "markdown",
      "source": [
        "                        THANK\n",
        "                          YOU"
      ],
      "metadata": {
        "id": "1pUCD9sK_JAR"
      }
    }
  ]
}